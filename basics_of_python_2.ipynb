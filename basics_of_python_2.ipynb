{
 "cells": [
  {
   "cell_type": "code",
   "execution_count": null,
   "metadata": {},
   "outputs": [],
   "source": [
    "def print_name(fname):\n",
    "  print(fname + \" rocks!\")\n",
    "\n",
    "print_name(\"Bene\")\n",
    "print_name(\"Luiza\")\n",
    "print_name(\"Kobe\")"
   ]
  }
 ],
 "metadata": {
  "language_info": {
   "name": "python"
  }
 },
 "nbformat": 4,
 "nbformat_minor": 2
}
